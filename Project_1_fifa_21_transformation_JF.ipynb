{
  "nbformat": 4,
  "nbformat_minor": 0,
  "metadata": {
    "colab": {
      "provenance": []
    },
    "kernelspec": {
      "name": "python3",
      "display_name": "Python 3"
    },
    "language_info": {
      "name": "python"
    }
  },
  "cells": [
    {
      "cell_type": "markdown",
      "source": [
        "##First load the data\n",
        "To begin, load up some data from a database into a DataFrame."
      ],
      "metadata": {
        "id": "EJwZ3GPfHpNp"
      }
    },
    {
      "cell_type": "code",
      "execution_count": null,
      "metadata": {
        "id": "DNeSn0zZGsT3"
      },
      "outputs": [],
      "source": [
        "#To keep the page organized, we will do all the imports here\n",
        "import pandas as pd\n",
        "from scipy import stats\n",
        "import re\n",
        "from datetime import datetime\n",
        "import numpy as np\n"
      ]
    },
    {
      "cell_type": "code",
      "source": [
        "#Load csv file into a dataframe\n",
        "fifa_df = pd.read_csv('/content/fifa21 raw data v2.csv')"
      ],
      "metadata": {
        "colab": {
          "base_uri": "https://localhost:8080/"
        },
        "id": "FoxOyMD4H2Jl",
        "outputId": "9149f8a5-2a2d-4b6c-b10f-868235e857c1"
      },
      "execution_count": null,
      "outputs": [
        {
          "output_type": "stream",
          "name": "stderr",
          "text": [
            "<ipython-input-277-41ea178855d2>:2: DtypeWarning: Columns (76) have mixed types. Specify dtype option on import or set low_memory=False.\n",
            "  fifa_df = pd.read_csv('/content/fifa21 raw data v2.csv')\n"
          ]
        }
      ]
    },
    {
      "cell_type": "markdown",
      "source": [
        "First, we will quickly examine our dataframe"
      ],
      "metadata": {
        "id": "Xsl38WMTIWj8"
      }
    },
    {
      "cell_type": "code",
      "source": [
        "fifa_df.shape"
      ],
      "metadata": {
        "colab": {
          "base_uri": "https://localhost:8080/"
        },
        "id": "RnrY3IUcIRX7",
        "outputId": "9d8fc939-7097-41fe-e5da-1594a1e2ba28"
      },
      "execution_count": null,
      "outputs": [
        {
          "output_type": "execute_result",
          "data": {
            "text/plain": [
              "(18979, 77)"
            ]
          },
          "metadata": {},
          "execution_count": 278
        }
      ]
    },
    {
      "cell_type": "code",
      "source": [
        "fifa_df.info()\n"
      ],
      "metadata": {
        "colab": {
          "base_uri": "https://localhost:8080/"
        },
        "id": "FavpgI-JIf-z",
        "outputId": "3fa0aaf1-ee9f-42d1-9645-639b5654cc2a"
      },
      "execution_count": null,
      "outputs": [
        {
          "output_type": "stream",
          "name": "stdout",
          "text": [
            "<class 'pandas.core.frame.DataFrame'>\n",
            "RangeIndex: 18979 entries, 0 to 18978\n",
            "Data columns (total 77 columns):\n",
            " #   Column            Non-Null Count  Dtype \n",
            "---  ------            --------------  ----- \n",
            " 0   ID                18979 non-null  int64 \n",
            " 1   Name              18979 non-null  object\n",
            " 2   LongName          18979 non-null  object\n",
            " 3   photoUrl          18979 non-null  object\n",
            " 4   playerUrl         18979 non-null  object\n",
            " 5   Nationality       18979 non-null  object\n",
            " 6   Age               18979 non-null  int64 \n",
            " 7   ↓OVA              18979 non-null  int64 \n",
            " 8   POT               18979 non-null  int64 \n",
            " 9   Club              18979 non-null  object\n",
            " 10  Contract          18979 non-null  object\n",
            " 11  Positions         18979 non-null  object\n",
            " 12  Height            18979 non-null  object\n",
            " 13  Weight            18979 non-null  object\n",
            " 14  Preferred Foot    18979 non-null  object\n",
            " 15  BOV               18979 non-null  int64 \n",
            " 16  Best Position     18979 non-null  object\n",
            " 17  Joined            18979 non-null  object\n",
            " 18  Loan Date End     1013 non-null   object\n",
            " 19  Value             18979 non-null  object\n",
            " 20  Wage              18979 non-null  object\n",
            " 21  Release Clause    18979 non-null  object\n",
            " 22  Attacking         18979 non-null  int64 \n",
            " 23  Crossing          18979 non-null  int64 \n",
            " 24  Finishing         18979 non-null  int64 \n",
            " 25  Heading Accuracy  18979 non-null  int64 \n",
            " 26  Short Passing     18979 non-null  int64 \n",
            " 27  Volleys           18979 non-null  int64 \n",
            " 28  Skill             18979 non-null  int64 \n",
            " 29  Dribbling         18979 non-null  int64 \n",
            " 30  Curve             18979 non-null  int64 \n",
            " 31  FK Accuracy       18979 non-null  int64 \n",
            " 32  Long Passing      18979 non-null  int64 \n",
            " 33  Ball Control      18979 non-null  int64 \n",
            " 34  Movement          18979 non-null  int64 \n",
            " 35  Acceleration      18979 non-null  int64 \n",
            " 36  Sprint Speed      18979 non-null  int64 \n",
            " 37  Agility           18979 non-null  int64 \n",
            " 38  Reactions         18979 non-null  int64 \n",
            " 39  Balance           18979 non-null  int64 \n",
            " 40  Power             18979 non-null  int64 \n",
            " 41  Shot Power        18979 non-null  int64 \n",
            " 42  Jumping           18979 non-null  int64 \n",
            " 43  Stamina           18979 non-null  int64 \n",
            " 44  Strength          18979 non-null  int64 \n",
            " 45  Long Shots        18979 non-null  int64 \n",
            " 46  Mentality         18979 non-null  int64 \n",
            " 47  Aggression        18979 non-null  int64 \n",
            " 48  Interceptions     18979 non-null  int64 \n",
            " 49  Positioning       18979 non-null  int64 \n",
            " 50  Vision            18979 non-null  int64 \n",
            " 51  Penalties         18979 non-null  int64 \n",
            " 52  Composure         18979 non-null  int64 \n",
            " 53  Defending         18979 non-null  int64 \n",
            " 54  Marking           18979 non-null  int64 \n",
            " 55  Standing Tackle   18979 non-null  int64 \n",
            " 56  Sliding Tackle    18979 non-null  int64 \n",
            " 57  Goalkeeping       18979 non-null  int64 \n",
            " 58  GK Diving         18979 non-null  int64 \n",
            " 59  GK Handling       18979 non-null  int64 \n",
            " 60  GK Kicking        18979 non-null  int64 \n",
            " 61  GK Positioning    18979 non-null  int64 \n",
            " 62  GK Reflexes       18979 non-null  int64 \n",
            " 63  Total Stats       18979 non-null  int64 \n",
            " 64  Base Stats        18979 non-null  int64 \n",
            " 65  W/F               18979 non-null  object\n",
            " 66  SM                18979 non-null  object\n",
            " 67  A/W               18979 non-null  object\n",
            " 68  D/W               18979 non-null  object\n",
            " 69  IR                18979 non-null  object\n",
            " 70  PAC               18979 non-null  int64 \n",
            " 71  SHO               18979 non-null  int64 \n",
            " 72  PAS               18979 non-null  int64 \n",
            " 73  DRI               18979 non-null  int64 \n",
            " 74  DEF               18979 non-null  int64 \n",
            " 75  PHY               18979 non-null  int64 \n",
            " 76  Hits              16384 non-null  object\n",
            "dtypes: int64(54), object(23)\n",
            "memory usage: 11.1+ MB\n"
          ]
        }
      ]
    },
    {
      "cell_type": "code",
      "source": [
        "fifa_df.head(5)"
      ],
      "metadata": {
        "colab": {
          "base_uri": "https://localhost:8080/",
          "height": 412
        },
        "id": "-0MIdc0CIlgb",
        "outputId": "1a5ec439-e85a-479a-dd40-e5ba03c88925"
      },
      "execution_count": null,
      "outputs": [
        {
          "output_type": "execute_result",
          "data": {
            "text/plain": [
              "       ID               Name                      LongName  \\\n",
              "0  158023           L. Messi                  Lionel Messi   \n",
              "1   20801  Cristiano Ronaldo  C. Ronaldo dos Santos Aveiro   \n",
              "2  200389           J. Oblak                     Jan Oblak   \n",
              "3  192985       K. De Bruyne               Kevin De Bruyne   \n",
              "4  190871          Neymar Jr    Neymar da Silva Santos Jr.   \n",
              "\n",
              "                                           photoUrl  \\\n",
              "0  https://cdn.sofifa.com/players/158/023/21_60.png   \n",
              "1  https://cdn.sofifa.com/players/020/801/21_60.png   \n",
              "2  https://cdn.sofifa.com/players/200/389/21_60.png   \n",
              "3  https://cdn.sofifa.com/players/192/985/21_60.png   \n",
              "4  https://cdn.sofifa.com/players/190/871/21_60.png   \n",
              "\n",
              "                                           playerUrl Nationality  Age  ↓OVA  \\\n",
              "0  http://sofifa.com/player/158023/lionel-messi/2...   Argentina   33    93   \n",
              "1  http://sofifa.com/player/20801/c-ronaldo-dos-s...    Portugal   35    92   \n",
              "2  http://sofifa.com/player/200389/jan-oblak/210006/    Slovenia   27    91   \n",
              "3  http://sofifa.com/player/192985/kevin-de-bruyn...     Belgium   29    91   \n",
              "4  http://sofifa.com/player/190871/neymar-da-silv...      Brazil   28    91   \n",
              "\n",
              "   POT                         Club  ...     A/W     D/W   IR PAC SHO  PAS  \\\n",
              "0   93         \\n\\n\\n\\nFC Barcelona  ...  Medium     Low  5 ★  85  92   91   \n",
              "1   92             \\n\\n\\n\\nJuventus  ...    High     Low  5 ★  89  93   81   \n",
              "2   93      \\n\\n\\n\\nAtlético Madrid  ...  Medium  Medium  3 ★  87  92   78   \n",
              "3   91      \\n\\n\\n\\nManchester City  ...    High    High  4 ★  76  86   93   \n",
              "4   91  \\n\\n\\n\\nParis Saint-Germain  ...    High  Medium  5 ★  91  85   86   \n",
              "\n",
              "  DRI DEF PHY Hits  \n",
              "0  95  38  65  771  \n",
              "1  89  35  77  562  \n",
              "2  90  52  90  150  \n",
              "3  88  64  78  207  \n",
              "4  94  36  59  595  \n",
              "\n",
              "[5 rows x 77 columns]"
            ],
            "text/html": [
              "\n",
              "  <div id=\"df-06cefff1-331b-4410-8076-632e1a612fda\" class=\"colab-df-container\">\n",
              "    <div>\n",
              "<style scoped>\n",
              "    .dataframe tbody tr th:only-of-type {\n",
              "        vertical-align: middle;\n",
              "    }\n",
              "\n",
              "    .dataframe tbody tr th {\n",
              "        vertical-align: top;\n",
              "    }\n",
              "\n",
              "    .dataframe thead th {\n",
              "        text-align: right;\n",
              "    }\n",
              "</style>\n",
              "<table border=\"1\" class=\"dataframe\">\n",
              "  <thead>\n",
              "    <tr style=\"text-align: right;\">\n",
              "      <th></th>\n",
              "      <th>ID</th>\n",
              "      <th>Name</th>\n",
              "      <th>LongName</th>\n",
              "      <th>photoUrl</th>\n",
              "      <th>playerUrl</th>\n",
              "      <th>Nationality</th>\n",
              "      <th>Age</th>\n",
              "      <th>↓OVA</th>\n",
              "      <th>POT</th>\n",
              "      <th>Club</th>\n",
              "      <th>...</th>\n",
              "      <th>A/W</th>\n",
              "      <th>D/W</th>\n",
              "      <th>IR</th>\n",
              "      <th>PAC</th>\n",
              "      <th>SHO</th>\n",
              "      <th>PAS</th>\n",
              "      <th>DRI</th>\n",
              "      <th>DEF</th>\n",
              "      <th>PHY</th>\n",
              "      <th>Hits</th>\n",
              "    </tr>\n",
              "  </thead>\n",
              "  <tbody>\n",
              "    <tr>\n",
              "      <th>0</th>\n",
              "      <td>158023</td>\n",
              "      <td>L. Messi</td>\n",
              "      <td>Lionel Messi</td>\n",
              "      <td>https://cdn.sofifa.com/players/158/023/21_60.png</td>\n",
              "      <td>http://sofifa.com/player/158023/lionel-messi/2...</td>\n",
              "      <td>Argentina</td>\n",
              "      <td>33</td>\n",
              "      <td>93</td>\n",
              "      <td>93</td>\n",
              "      <td>\\n\\n\\n\\nFC Barcelona</td>\n",
              "      <td>...</td>\n",
              "      <td>Medium</td>\n",
              "      <td>Low</td>\n",
              "      <td>5 ★</td>\n",
              "      <td>85</td>\n",
              "      <td>92</td>\n",
              "      <td>91</td>\n",
              "      <td>95</td>\n",
              "      <td>38</td>\n",
              "      <td>65</td>\n",
              "      <td>771</td>\n",
              "    </tr>\n",
              "    <tr>\n",
              "      <th>1</th>\n",
              "      <td>20801</td>\n",
              "      <td>Cristiano Ronaldo</td>\n",
              "      <td>C. Ronaldo dos Santos Aveiro</td>\n",
              "      <td>https://cdn.sofifa.com/players/020/801/21_60.png</td>\n",
              "      <td>http://sofifa.com/player/20801/c-ronaldo-dos-s...</td>\n",
              "      <td>Portugal</td>\n",
              "      <td>35</td>\n",
              "      <td>92</td>\n",
              "      <td>92</td>\n",
              "      <td>\\n\\n\\n\\nJuventus</td>\n",
              "      <td>...</td>\n",
              "      <td>High</td>\n",
              "      <td>Low</td>\n",
              "      <td>5 ★</td>\n",
              "      <td>89</td>\n",
              "      <td>93</td>\n",
              "      <td>81</td>\n",
              "      <td>89</td>\n",
              "      <td>35</td>\n",
              "      <td>77</td>\n",
              "      <td>562</td>\n",
              "    </tr>\n",
              "    <tr>\n",
              "      <th>2</th>\n",
              "      <td>200389</td>\n",
              "      <td>J. Oblak</td>\n",
              "      <td>Jan Oblak</td>\n",
              "      <td>https://cdn.sofifa.com/players/200/389/21_60.png</td>\n",
              "      <td>http://sofifa.com/player/200389/jan-oblak/210006/</td>\n",
              "      <td>Slovenia</td>\n",
              "      <td>27</td>\n",
              "      <td>91</td>\n",
              "      <td>93</td>\n",
              "      <td>\\n\\n\\n\\nAtlético Madrid</td>\n",
              "      <td>...</td>\n",
              "      <td>Medium</td>\n",
              "      <td>Medium</td>\n",
              "      <td>3 ★</td>\n",
              "      <td>87</td>\n",
              "      <td>92</td>\n",
              "      <td>78</td>\n",
              "      <td>90</td>\n",
              "      <td>52</td>\n",
              "      <td>90</td>\n",
              "      <td>150</td>\n",
              "    </tr>\n",
              "    <tr>\n",
              "      <th>3</th>\n",
              "      <td>192985</td>\n",
              "      <td>K. De Bruyne</td>\n",
              "      <td>Kevin De Bruyne</td>\n",
              "      <td>https://cdn.sofifa.com/players/192/985/21_60.png</td>\n",
              "      <td>http://sofifa.com/player/192985/kevin-de-bruyn...</td>\n",
              "      <td>Belgium</td>\n",
              "      <td>29</td>\n",
              "      <td>91</td>\n",
              "      <td>91</td>\n",
              "      <td>\\n\\n\\n\\nManchester City</td>\n",
              "      <td>...</td>\n",
              "      <td>High</td>\n",
              "      <td>High</td>\n",
              "      <td>4 ★</td>\n",
              "      <td>76</td>\n",
              "      <td>86</td>\n",
              "      <td>93</td>\n",
              "      <td>88</td>\n",
              "      <td>64</td>\n",
              "      <td>78</td>\n",
              "      <td>207</td>\n",
              "    </tr>\n",
              "    <tr>\n",
              "      <th>4</th>\n",
              "      <td>190871</td>\n",
              "      <td>Neymar Jr</td>\n",
              "      <td>Neymar da Silva Santos Jr.</td>\n",
              "      <td>https://cdn.sofifa.com/players/190/871/21_60.png</td>\n",
              "      <td>http://sofifa.com/player/190871/neymar-da-silv...</td>\n",
              "      <td>Brazil</td>\n",
              "      <td>28</td>\n",
              "      <td>91</td>\n",
              "      <td>91</td>\n",
              "      <td>\\n\\n\\n\\nParis Saint-Germain</td>\n",
              "      <td>...</td>\n",
              "      <td>High</td>\n",
              "      <td>Medium</td>\n",
              "      <td>5 ★</td>\n",
              "      <td>91</td>\n",
              "      <td>85</td>\n",
              "      <td>86</td>\n",
              "      <td>94</td>\n",
              "      <td>36</td>\n",
              "      <td>59</td>\n",
              "      <td>595</td>\n",
              "    </tr>\n",
              "  </tbody>\n",
              "</table>\n",
              "<p>5 rows × 77 columns</p>\n",
              "</div>\n",
              "    <div class=\"colab-df-buttons\">\n",
              "\n",
              "  <div class=\"colab-df-container\">\n",
              "    <button class=\"colab-df-convert\" onclick=\"convertToInteractive('df-06cefff1-331b-4410-8076-632e1a612fda')\"\n",
              "            title=\"Convert this dataframe to an interactive table.\"\n",
              "            style=\"display:none;\">\n",
              "\n",
              "  <svg xmlns=\"http://www.w3.org/2000/svg\" height=\"24px\" viewBox=\"0 -960 960 960\">\n",
              "    <path d=\"M120-120v-720h720v720H120Zm60-500h600v-160H180v160Zm220 220h160v-160H400v160Zm0 220h160v-160H400v160ZM180-400h160v-160H180v160Zm440 0h160v-160H620v160ZM180-180h160v-160H180v160Zm440 0h160v-160H620v160Z\"/>\n",
              "  </svg>\n",
              "    </button>\n",
              "\n",
              "  <style>\n",
              "    .colab-df-container {\n",
              "      display:flex;\n",
              "      gap: 12px;\n",
              "    }\n",
              "\n",
              "    .colab-df-convert {\n",
              "      background-color: #E8F0FE;\n",
              "      border: none;\n",
              "      border-radius: 50%;\n",
              "      cursor: pointer;\n",
              "      display: none;\n",
              "      fill: #1967D2;\n",
              "      height: 32px;\n",
              "      padding: 0 0 0 0;\n",
              "      width: 32px;\n",
              "    }\n",
              "\n",
              "    .colab-df-convert:hover {\n",
              "      background-color: #E2EBFA;\n",
              "      box-shadow: 0px 1px 2px rgba(60, 64, 67, 0.3), 0px 1px 3px 1px rgba(60, 64, 67, 0.15);\n",
              "      fill: #174EA6;\n",
              "    }\n",
              "\n",
              "    .colab-df-buttons div {\n",
              "      margin-bottom: 4px;\n",
              "    }\n",
              "\n",
              "    [theme=dark] .colab-df-convert {\n",
              "      background-color: #3B4455;\n",
              "      fill: #D2E3FC;\n",
              "    }\n",
              "\n",
              "    [theme=dark] .colab-df-convert:hover {\n",
              "      background-color: #434B5C;\n",
              "      box-shadow: 0px 1px 3px 1px rgba(0, 0, 0, 0.15);\n",
              "      filter: drop-shadow(0px 1px 2px rgba(0, 0, 0, 0.3));\n",
              "      fill: #FFFFFF;\n",
              "    }\n",
              "  </style>\n",
              "\n",
              "    <script>\n",
              "      const buttonEl =\n",
              "        document.querySelector('#df-06cefff1-331b-4410-8076-632e1a612fda button.colab-df-convert');\n",
              "      buttonEl.style.display =\n",
              "        google.colab.kernel.accessAllowed ? 'block' : 'none';\n",
              "\n",
              "      async function convertToInteractive(key) {\n",
              "        const element = document.querySelector('#df-06cefff1-331b-4410-8076-632e1a612fda');\n",
              "        const dataTable =\n",
              "          await google.colab.kernel.invokeFunction('convertToInteractive',\n",
              "                                                    [key], {});\n",
              "        if (!dataTable) return;\n",
              "\n",
              "        const docLinkHtml = 'Like what you see? Visit the ' +\n",
              "          '<a target=\"_blank\" href=https://colab.research.google.com/notebooks/data_table.ipynb>data table notebook</a>'\n",
              "          + ' to learn more about interactive tables.';\n",
              "        element.innerHTML = '';\n",
              "        dataTable['output_type'] = 'display_data';\n",
              "        await google.colab.output.renderOutput(dataTable, element);\n",
              "        const docLink = document.createElement('div');\n",
              "        docLink.innerHTML = docLinkHtml;\n",
              "        element.appendChild(docLink);\n",
              "      }\n",
              "    </script>\n",
              "  </div>\n",
              "\n",
              "\n",
              "<div id=\"df-59b85a8e-e973-4e86-b9fa-d868289de7b2\">\n",
              "  <button class=\"colab-df-quickchart\" onclick=\"quickchart('df-59b85a8e-e973-4e86-b9fa-d868289de7b2')\"\n",
              "            title=\"Suggest charts.\"\n",
              "            style=\"display:none;\">\n",
              "\n",
              "<svg xmlns=\"http://www.w3.org/2000/svg\" height=\"24px\"viewBox=\"0 0 24 24\"\n",
              "     width=\"24px\">\n",
              "    <g>\n",
              "        <path d=\"M19 3H5c-1.1 0-2 .9-2 2v14c0 1.1.9 2 2 2h14c1.1 0 2-.9 2-2V5c0-1.1-.9-2-2-2zM9 17H7v-7h2v7zm4 0h-2V7h2v10zm4 0h-2v-4h2v4z\"/>\n",
              "    </g>\n",
              "</svg>\n",
              "  </button>\n",
              "\n",
              "<style>\n",
              "  .colab-df-quickchart {\n",
              "      --bg-color: #E8F0FE;\n",
              "      --fill-color: #1967D2;\n",
              "      --hover-bg-color: #E2EBFA;\n",
              "      --hover-fill-color: #174EA6;\n",
              "      --disabled-fill-color: #AAA;\n",
              "      --disabled-bg-color: #DDD;\n",
              "  }\n",
              "\n",
              "  [theme=dark] .colab-df-quickchart {\n",
              "      --bg-color: #3B4455;\n",
              "      --fill-color: #D2E3FC;\n",
              "      --hover-bg-color: #434B5C;\n",
              "      --hover-fill-color: #FFFFFF;\n",
              "      --disabled-bg-color: #3B4455;\n",
              "      --disabled-fill-color: #666;\n",
              "  }\n",
              "\n",
              "  .colab-df-quickchart {\n",
              "    background-color: var(--bg-color);\n",
              "    border: none;\n",
              "    border-radius: 50%;\n",
              "    cursor: pointer;\n",
              "    display: none;\n",
              "    fill: var(--fill-color);\n",
              "    height: 32px;\n",
              "    padding: 0;\n",
              "    width: 32px;\n",
              "  }\n",
              "\n",
              "  .colab-df-quickchart:hover {\n",
              "    background-color: var(--hover-bg-color);\n",
              "    box-shadow: 0 1px 2px rgba(60, 64, 67, 0.3), 0 1px 3px 1px rgba(60, 64, 67, 0.15);\n",
              "    fill: var(--button-hover-fill-color);\n",
              "  }\n",
              "\n",
              "  .colab-df-quickchart-complete:disabled,\n",
              "  .colab-df-quickchart-complete:disabled:hover {\n",
              "    background-color: var(--disabled-bg-color);\n",
              "    fill: var(--disabled-fill-color);\n",
              "    box-shadow: none;\n",
              "  }\n",
              "\n",
              "  .colab-df-spinner {\n",
              "    border: 2px solid var(--fill-color);\n",
              "    border-color: transparent;\n",
              "    border-bottom-color: var(--fill-color);\n",
              "    animation:\n",
              "      spin 1s steps(1) infinite;\n",
              "  }\n",
              "\n",
              "  @keyframes spin {\n",
              "    0% {\n",
              "      border-color: transparent;\n",
              "      border-bottom-color: var(--fill-color);\n",
              "      border-left-color: var(--fill-color);\n",
              "    }\n",
              "    20% {\n",
              "      border-color: transparent;\n",
              "      border-left-color: var(--fill-color);\n",
              "      border-top-color: var(--fill-color);\n",
              "    }\n",
              "    30% {\n",
              "      border-color: transparent;\n",
              "      border-left-color: var(--fill-color);\n",
              "      border-top-color: var(--fill-color);\n",
              "      border-right-color: var(--fill-color);\n",
              "    }\n",
              "    40% {\n",
              "      border-color: transparent;\n",
              "      border-right-color: var(--fill-color);\n",
              "      border-top-color: var(--fill-color);\n",
              "    }\n",
              "    60% {\n",
              "      border-color: transparent;\n",
              "      border-right-color: var(--fill-color);\n",
              "    }\n",
              "    80% {\n",
              "      border-color: transparent;\n",
              "      border-right-color: var(--fill-color);\n",
              "      border-bottom-color: var(--fill-color);\n",
              "    }\n",
              "    90% {\n",
              "      border-color: transparent;\n",
              "      border-bottom-color: var(--fill-color);\n",
              "    }\n",
              "  }\n",
              "</style>\n",
              "\n",
              "  <script>\n",
              "    async function quickchart(key) {\n",
              "      const quickchartButtonEl =\n",
              "        document.querySelector('#' + key + ' button');\n",
              "      quickchartButtonEl.disabled = true;  // To prevent multiple clicks.\n",
              "      quickchartButtonEl.classList.add('colab-df-spinner');\n",
              "      try {\n",
              "        const charts = await google.colab.kernel.invokeFunction(\n",
              "            'suggestCharts', [key], {});\n",
              "      } catch (error) {\n",
              "        console.error('Error during call to suggestCharts:', error);\n",
              "      }\n",
              "      quickchartButtonEl.classList.remove('colab-df-spinner');\n",
              "      quickchartButtonEl.classList.add('colab-df-quickchart-complete');\n",
              "    }\n",
              "    (() => {\n",
              "      let quickchartButtonEl =\n",
              "        document.querySelector('#df-59b85a8e-e973-4e86-b9fa-d868289de7b2 button');\n",
              "      quickchartButtonEl.style.display =\n",
              "        google.colab.kernel.accessAllowed ? 'block' : 'none';\n",
              "    })();\n",
              "  </script>\n",
              "</div>\n",
              "    </div>\n",
              "  </div>\n"
            ]
          },
          "metadata": {},
          "execution_count": 280
        }
      ]
    },
    {
      "cell_type": "markdown",
      "source": [
        "Before we begin our analysis, lets first state the guiding questions we will be looking at.\n",
        "\n",
        "\n",
        "*   Do the height and weight columns have the appropriate data type?\n",
        "*   Can we separate the joined column into year, month and day columns?\n",
        "*   Can we clean and transform the value, wage and release clause columns into columns of integers?\n",
        "*   How can we remove the newline characters from the Hits column?\n",
        "*   Should we seoarate the Team & Contract column into separate team and contract columns?\n",
        "\n",
        "\n",
        "\n",
        "\n",
        "\n",
        "\n"
      ],
      "metadata": {
        "id": "-Rni3Z5OJWb8"
      }
    },
    {
      "cell_type": "markdown",
      "source": [
        "##Question 1: *Do the height and weight columns have the appropriate data types?*"
      ],
      "metadata": {
        "id": "2kdCqnqEKdFY"
      }
    },
    {
      "cell_type": "markdown",
      "source": [
        "We want both height and weight to be integers."
      ],
      "metadata": {
        "id": "duVUB0fMK-3W"
      }
    },
    {
      "cell_type": "code",
      "source": [
        "#Height is written in both centimeter and feet format.\n",
        "#We will be converting these to integers values that represents total centimeters.\n",
        "\n",
        "# Function to convert height to centimeters\n",
        "def convert_height(height):\n",
        "    cm_pattern = r\"(\\d+)cm\"\n",
        "    feet_pattern = r\"(\\d+)'(\\d+)\\\"\"\n",
        "\n",
        "    cm_match = re.match(cm_pattern, height)\n",
        "    feet_match = re.match(feet_pattern, height)\n",
        "\n",
        "    if cm_match:\n",
        "        return int(cm_match.group(1))\n",
        "    elif feet_match:\n",
        "        feet = int(feet_match.group(1))\n",
        "        inches = int(feet_match.group(2))\n",
        "        total_cm = feet * 30.48 + inches * 2.54\n",
        "        return int(total_cm)\n",
        "    else:\n",
        "        raise ValueError(\"Invalid height format: \" + height)\n",
        "\n",
        "# Apply the function to 'Height' column and store the result in 'height_cm' column\n",
        "fifa_df['height_cm'] = fifa_df['Height'].apply(convert_height)\n",
        "\n",
        "# Print the updated DataFrame\n",
        "fifa_df['height_cm']"
      ],
      "metadata": {
        "colab": {
          "base_uri": "https://localhost:8080/"
        },
        "id": "U2T5k7abXA1_",
        "outputId": "bab40202-ac32-492f-924b-e1dff8c42807"
      },
      "execution_count": null,
      "outputs": [
        {
          "output_type": "execute_result",
          "data": {
            "text/plain": [
              "0        170\n",
              "1        187\n",
              "2        188\n",
              "3        181\n",
              "4        175\n",
              "        ... \n",
              "18974    178\n",
              "18975    175\n",
              "18976    179\n",
              "18977    175\n",
              "18978    188\n",
              "Name: height_cm, Length: 18979, dtype: int64"
            ]
          },
          "metadata": {},
          "execution_count": 281
        }
      ]
    },
    {
      "cell_type": "code",
      "source": [
        "#Confirm our values formatted in feet'inches are converted to total cm\n",
        "fifa_df.iloc[862:872, 77:79]"
      ],
      "metadata": {
        "colab": {
          "base_uri": "https://localhost:8080/",
          "height": 363
        },
        "id": "Qc36vR8xrwyG",
        "outputId": "a06cf8d7-e685-4a30-82cd-6b540ef5380c"
      },
      "execution_count": null,
      "outputs": [
        {
          "output_type": "execute_result",
          "data": {
            "text/plain": [
              "     height_cm\n",
              "862        185\n",
              "863        182\n",
              "864        185\n",
              "865        180\n",
              "866        187\n",
              "867        182\n",
              "868        190\n",
              "869        182\n",
              "870        184\n",
              "871        177"
            ],
            "text/html": [
              "\n",
              "  <div id=\"df-1466581d-623a-4530-b65e-b42b43a21a0c\" class=\"colab-df-container\">\n",
              "    <div>\n",
              "<style scoped>\n",
              "    .dataframe tbody tr th:only-of-type {\n",
              "        vertical-align: middle;\n",
              "    }\n",
              "\n",
              "    .dataframe tbody tr th {\n",
              "        vertical-align: top;\n",
              "    }\n",
              "\n",
              "    .dataframe thead th {\n",
              "        text-align: right;\n",
              "    }\n",
              "</style>\n",
              "<table border=\"1\" class=\"dataframe\">\n",
              "  <thead>\n",
              "    <tr style=\"text-align: right;\">\n",
              "      <th></th>\n",
              "      <th>height_cm</th>\n",
              "    </tr>\n",
              "  </thead>\n",
              "  <tbody>\n",
              "    <tr>\n",
              "      <th>862</th>\n",
              "      <td>185</td>\n",
              "    </tr>\n",
              "    <tr>\n",
              "      <th>863</th>\n",
              "      <td>182</td>\n",
              "    </tr>\n",
              "    <tr>\n",
              "      <th>864</th>\n",
              "      <td>185</td>\n",
              "    </tr>\n",
              "    <tr>\n",
              "      <th>865</th>\n",
              "      <td>180</td>\n",
              "    </tr>\n",
              "    <tr>\n",
              "      <th>866</th>\n",
              "      <td>187</td>\n",
              "    </tr>\n",
              "    <tr>\n",
              "      <th>867</th>\n",
              "      <td>182</td>\n",
              "    </tr>\n",
              "    <tr>\n",
              "      <th>868</th>\n",
              "      <td>190</td>\n",
              "    </tr>\n",
              "    <tr>\n",
              "      <th>869</th>\n",
              "      <td>182</td>\n",
              "    </tr>\n",
              "    <tr>\n",
              "      <th>870</th>\n",
              "      <td>184</td>\n",
              "    </tr>\n",
              "    <tr>\n",
              "      <th>871</th>\n",
              "      <td>177</td>\n",
              "    </tr>\n",
              "  </tbody>\n",
              "</table>\n",
              "</div>\n",
              "    <div class=\"colab-df-buttons\">\n",
              "\n",
              "  <div class=\"colab-df-container\">\n",
              "    <button class=\"colab-df-convert\" onclick=\"convertToInteractive('df-1466581d-623a-4530-b65e-b42b43a21a0c')\"\n",
              "            title=\"Convert this dataframe to an interactive table.\"\n",
              "            style=\"display:none;\">\n",
              "\n",
              "  <svg xmlns=\"http://www.w3.org/2000/svg\" height=\"24px\" viewBox=\"0 -960 960 960\">\n",
              "    <path d=\"M120-120v-720h720v720H120Zm60-500h600v-160H180v160Zm220 220h160v-160H400v160Zm0 220h160v-160H400v160ZM180-400h160v-160H180v160Zm440 0h160v-160H620v160ZM180-180h160v-160H180v160Zm440 0h160v-160H620v160Z\"/>\n",
              "  </svg>\n",
              "    </button>\n",
              "\n",
              "  <style>\n",
              "    .colab-df-container {\n",
              "      display:flex;\n",
              "      gap: 12px;\n",
              "    }\n",
              "\n",
              "    .colab-df-convert {\n",
              "      background-color: #E8F0FE;\n",
              "      border: none;\n",
              "      border-radius: 50%;\n",
              "      cursor: pointer;\n",
              "      display: none;\n",
              "      fill: #1967D2;\n",
              "      height: 32px;\n",
              "      padding: 0 0 0 0;\n",
              "      width: 32px;\n",
              "    }\n",
              "\n",
              "    .colab-df-convert:hover {\n",
              "      background-color: #E2EBFA;\n",
              "      box-shadow: 0px 1px 2px rgba(60, 64, 67, 0.3), 0px 1px 3px 1px rgba(60, 64, 67, 0.15);\n",
              "      fill: #174EA6;\n",
              "    }\n",
              "\n",
              "    .colab-df-buttons div {\n",
              "      margin-bottom: 4px;\n",
              "    }\n",
              "\n",
              "    [theme=dark] .colab-df-convert {\n",
              "      background-color: #3B4455;\n",
              "      fill: #D2E3FC;\n",
              "    }\n",
              "\n",
              "    [theme=dark] .colab-df-convert:hover {\n",
              "      background-color: #434B5C;\n",
              "      box-shadow: 0px 1px 3px 1px rgba(0, 0, 0, 0.15);\n",
              "      filter: drop-shadow(0px 1px 2px rgba(0, 0, 0, 0.3));\n",
              "      fill: #FFFFFF;\n",
              "    }\n",
              "  </style>\n",
              "\n",
              "    <script>\n",
              "      const buttonEl =\n",
              "        document.querySelector('#df-1466581d-623a-4530-b65e-b42b43a21a0c button.colab-df-convert');\n",
              "      buttonEl.style.display =\n",
              "        google.colab.kernel.accessAllowed ? 'block' : 'none';\n",
              "\n",
              "      async function convertToInteractive(key) {\n",
              "        const element = document.querySelector('#df-1466581d-623a-4530-b65e-b42b43a21a0c');\n",
              "        const dataTable =\n",
              "          await google.colab.kernel.invokeFunction('convertToInteractive',\n",
              "                                                    [key], {});\n",
              "        if (!dataTable) return;\n",
              "\n",
              "        const docLinkHtml = 'Like what you see? Visit the ' +\n",
              "          '<a target=\"_blank\" href=https://colab.research.google.com/notebooks/data_table.ipynb>data table notebook</a>'\n",
              "          + ' to learn more about interactive tables.';\n",
              "        element.innerHTML = '';\n",
              "        dataTable['output_type'] = 'display_data';\n",
              "        await google.colab.output.renderOutput(dataTable, element);\n",
              "        const docLink = document.createElement('div');\n",
              "        docLink.innerHTML = docLinkHtml;\n",
              "        element.appendChild(docLink);\n",
              "      }\n",
              "    </script>\n",
              "  </div>\n",
              "\n",
              "\n",
              "<div id=\"df-80fbd56f-d43e-45c4-8ebd-4dc97583b633\">\n",
              "  <button class=\"colab-df-quickchart\" onclick=\"quickchart('df-80fbd56f-d43e-45c4-8ebd-4dc97583b633')\"\n",
              "            title=\"Suggest charts.\"\n",
              "            style=\"display:none;\">\n",
              "\n",
              "<svg xmlns=\"http://www.w3.org/2000/svg\" height=\"24px\"viewBox=\"0 0 24 24\"\n",
              "     width=\"24px\">\n",
              "    <g>\n",
              "        <path d=\"M19 3H5c-1.1 0-2 .9-2 2v14c0 1.1.9 2 2 2h14c1.1 0 2-.9 2-2V5c0-1.1-.9-2-2-2zM9 17H7v-7h2v7zm4 0h-2V7h2v10zm4 0h-2v-4h2v4z\"/>\n",
              "    </g>\n",
              "</svg>\n",
              "  </button>\n",
              "\n",
              "<style>\n",
              "  .colab-df-quickchart {\n",
              "      --bg-color: #E8F0FE;\n",
              "      --fill-color: #1967D2;\n",
              "      --hover-bg-color: #E2EBFA;\n",
              "      --hover-fill-color: #174EA6;\n",
              "      --disabled-fill-color: #AAA;\n",
              "      --disabled-bg-color: #DDD;\n",
              "  }\n",
              "\n",
              "  [theme=dark] .colab-df-quickchart {\n",
              "      --bg-color: #3B4455;\n",
              "      --fill-color: #D2E3FC;\n",
              "      --hover-bg-color: #434B5C;\n",
              "      --hover-fill-color: #FFFFFF;\n",
              "      --disabled-bg-color: #3B4455;\n",
              "      --disabled-fill-color: #666;\n",
              "  }\n",
              "\n",
              "  .colab-df-quickchart {\n",
              "    background-color: var(--bg-color);\n",
              "    border: none;\n",
              "    border-radius: 50%;\n",
              "    cursor: pointer;\n",
              "    display: none;\n",
              "    fill: var(--fill-color);\n",
              "    height: 32px;\n",
              "    padding: 0;\n",
              "    width: 32px;\n",
              "  }\n",
              "\n",
              "  .colab-df-quickchart:hover {\n",
              "    background-color: var(--hover-bg-color);\n",
              "    box-shadow: 0 1px 2px rgba(60, 64, 67, 0.3), 0 1px 3px 1px rgba(60, 64, 67, 0.15);\n",
              "    fill: var(--button-hover-fill-color);\n",
              "  }\n",
              "\n",
              "  .colab-df-quickchart-complete:disabled,\n",
              "  .colab-df-quickchart-complete:disabled:hover {\n",
              "    background-color: var(--disabled-bg-color);\n",
              "    fill: var(--disabled-fill-color);\n",
              "    box-shadow: none;\n",
              "  }\n",
              "\n",
              "  .colab-df-spinner {\n",
              "    border: 2px solid var(--fill-color);\n",
              "    border-color: transparent;\n",
              "    border-bottom-color: var(--fill-color);\n",
              "    animation:\n",
              "      spin 1s steps(1) infinite;\n",
              "  }\n",
              "\n",
              "  @keyframes spin {\n",
              "    0% {\n",
              "      border-color: transparent;\n",
              "      border-bottom-color: var(--fill-color);\n",
              "      border-left-color: var(--fill-color);\n",
              "    }\n",
              "    20% {\n",
              "      border-color: transparent;\n",
              "      border-left-color: var(--fill-color);\n",
              "      border-top-color: var(--fill-color);\n",
              "    }\n",
              "    30% {\n",
              "      border-color: transparent;\n",
              "      border-left-color: var(--fill-color);\n",
              "      border-top-color: var(--fill-color);\n",
              "      border-right-color: var(--fill-color);\n",
              "    }\n",
              "    40% {\n",
              "      border-color: transparent;\n",
              "      border-right-color: var(--fill-color);\n",
              "      border-top-color: var(--fill-color);\n",
              "    }\n",
              "    60% {\n",
              "      border-color: transparent;\n",
              "      border-right-color: var(--fill-color);\n",
              "    }\n",
              "    80% {\n",
              "      border-color: transparent;\n",
              "      border-right-color: var(--fill-color);\n",
              "      border-bottom-color: var(--fill-color);\n",
              "    }\n",
              "    90% {\n",
              "      border-color: transparent;\n",
              "      border-bottom-color: var(--fill-color);\n",
              "    }\n",
              "  }\n",
              "</style>\n",
              "\n",
              "  <script>\n",
              "    async function quickchart(key) {\n",
              "      const quickchartButtonEl =\n",
              "        document.querySelector('#' + key + ' button');\n",
              "      quickchartButtonEl.disabled = true;  // To prevent multiple clicks.\n",
              "      quickchartButtonEl.classList.add('colab-df-spinner');\n",
              "      try {\n",
              "        const charts = await google.colab.kernel.invokeFunction(\n",
              "            'suggestCharts', [key], {});\n",
              "      } catch (error) {\n",
              "        console.error('Error during call to suggestCharts:', error);\n",
              "      }\n",
              "      quickchartButtonEl.classList.remove('colab-df-spinner');\n",
              "      quickchartButtonEl.classList.add('colab-df-quickchart-complete');\n",
              "    }\n",
              "    (() => {\n",
              "      let quickchartButtonEl =\n",
              "        document.querySelector('#df-80fbd56f-d43e-45c4-8ebd-4dc97583b633 button');\n",
              "      quickchartButtonEl.style.display =\n",
              "        google.colab.kernel.accessAllowed ? 'block' : 'none';\n",
              "    })();\n",
              "  </script>\n",
              "</div>\n",
              "    </div>\n",
              "  </div>\n"
            ]
          },
          "metadata": {},
          "execution_count": 282
        }
      ]
    },
    {
      "cell_type": "markdown",
      "source": [
        "From the results above, we see that values in both the height and weight column are integers. Hence, they have the appropriate data types."
      ],
      "metadata": {
        "id": "HelzcPk0MNEl"
      }
    },
    {
      "cell_type": "markdown",
      "source": [
        "##Notes for solution to Question 1"
      ],
      "metadata": {
        "id": "pHzgBoeu3nNe"
      }
    },
    {
      "cell_type": "markdown",
      "source": [
        "The 're' module in Python provides support for working with regular expressions, which are sequences of characters that define a search pattern. Regular expressions can be used for pattern matching, seaching, and minipulation strings. The 're' module offers a variety of functions and methods for working with regular expressions.\n",
        "\n",
        "Common 're' Functions/Methods:\n",
        "1. 're.match(pattern, string)':Checks if the regular expression pattern matches at the beginning of the string.\n",
        "2. 're.search(pattern, string)': Searches the entire string for a match with the pattern.\n",
        "3. 're.findall(pattern, string)': Finds all occurences of the pattern in the string and returns them as a list.\n",
        "4. 're.finditer(pattern, string)': Finds all occurences of the pattern in the string and returns an interator of match objects.\n",
        "5. 're.sub(pattern, replacement, string)': Replaces occurences of the pattern in the string with the specified replacement.\n",
        "\n",
        "The '\\d+' regular expression matches one or more digits (0-9). Here's what each part means:\n",
        "\n",
        "\n",
        "\n",
        "*   '\\d+': This is a special character in regular expressions representing any digit (0-9).\n",
        "*   This is a quantifier that means \"one or more occurrences of the preceding pattern.\" In this case, it applies to '\\d', indicated one or more digits.\n",
        "\n",
        "\n"
      ],
      "metadata": {
        "id": "jBGUpILW3rtS"
      }
    },
    {
      "cell_type": "markdown",
      "source": [
        "###Question 2: *Can we separate the joined column into year, month and day columns?*"
      ],
      "metadata": {
        "id": "WySG25TZMbt3"
      }
    },
    {
      "cell_type": "code",
      "source": [
        "# Function to parse 'Joined' column and extract month, day, and year\n",
        "def parse_date(date_str):\n",
        "    date_object = datetime.strptime(date_str, '%b %d, %Y')\n",
        "    return date_object.month, date_object.day, date_object.year\n",
        "\n",
        "# Apply the parse_date function to 'Joined' column and split into separate columns\n",
        "fifa_df[['Month', 'Day', 'Year']] = fifa_df['Joined'].apply(parse_date).apply(pd.Series)\n",
        "\n",
        "# Print the updated DataFrame\n",
        "print(fifa_df[['Month', 'Day', 'Year']])"
      ],
      "metadata": {
        "colab": {
          "base_uri": "https://localhost:8080/"
        },
        "id": "By1qsdBDLyF3",
        "outputId": "b8e3061b-16be-4749-9de3-25ac3d6f81bd"
      },
      "execution_count": null,
      "outputs": [
        {
          "output_type": "stream",
          "name": "stdout",
          "text": [
            "       Month  Day  Year\n",
            "0          7    1  2004\n",
            "1          7   10  2018\n",
            "2          7   16  2014\n",
            "3          8   30  2015\n",
            "4          8    3  2017\n",
            "...      ...  ...   ...\n",
            "18974      7   13  2018\n",
            "18975      8    1  2020\n",
            "18976      3    8  2019\n",
            "18977      9   22  2020\n",
            "18978      7   29  2019\n",
            "\n",
            "[18979 rows x 3 columns]\n"
          ]
        }
      ]
    },
    {
      "cell_type": "markdown",
      "source": [
        "###Notes for solution to Question 2\n"
      ],
      "metadata": {
        "id": "fbLjBP4S16ll"
      }
    },
    {
      "cell_type": "markdown",
      "source": [
        "1. The 'parse_date' function uses 'strptime' to parse the date strings in the formal \"Jul 1, 2004\" where '%b' represents the abbreviated month name, '%d' represents the day and '%Y' represents the 4-digit year.\n",
        "2. 'apple(parse_date).apply(pd.Series)' applies the 'parse_date' function to the 'Joined' column, created a DataFrame with three columns (month, day, and year) which are then assigned to the respective columns in the original DataFrame.\n",
        "\n",
        "After running this code, the DataFrame will have separate 'Month', 'Day', and 'Year' columns with the respective values extracted from the original 'Joined' column."
      ],
      "metadata": {
        "id": "X6lCIYFF217q"
      }
    },
    {
      "cell_type": "markdown",
      "source": [
        "##Question 3: *Can we clean and transform the value, wage and release clause columns into columns of integers?*"
      ],
      "metadata": {
        "id": "flRNaiWy28K8"
      }
    },
    {
      "cell_type": "markdown",
      "source": [
        "We want the values in these columns to be floating numbers. The reason for this instead of having integers is that some are written like 45.1M (as in 45.1 million). If are to have them as integers, it would 45,100,100. To improve readability, we will write this as floating numbers, and the units (millions as m and thousands as m) will be specified in the column names."
      ],
      "metadata": {
        "id": "8YUneC4cCZaq"
      }
    },
    {
      "cell_type": "markdown",
      "source": [
        "###First, lets transform our 'Value' column."
      ],
      "metadata": {
        "id": "lJCh6I449_WO"
      }
    },
    {
      "cell_type": "code",
      "source": [
        "# Function to convert 'Value' column to numeric format\n",
        "def convert_value(value_str):\n",
        "    numeric_part = re.sub(r'[^\\d.]', '', value_str)  # Remove non-numeric characters\n",
        "    if numeric_part:\n",
        "        return float(numeric_part)  # Convert the numeric part to float\n",
        "    else:\n",
        "        raise ValueError(\"Invalid 'Value' format: \" + value_str)\n",
        "\n",
        "# Apply the function to 'Value' column and store the result in 'value_mm' column\n",
        "fifa_df['value_mm'] = fifa_df['Value'].apply(convert_value)\n",
        "#Note if you run this cell again after run all, it will return an error.\n",
        "#That is because 'Value' no longer exists after the intial run through.\n",
        "\n",
        "# Drop the original 'Value' column\n",
        "fifa_df.drop(columns=['Value'], inplace=True)\n",
        "\n",
        "# Print the updated DataFrame\n",
        "print(fifa_df['value_mm'])"
      ],
      "metadata": {
        "colab": {
          "base_uri": "https://localhost:8080/"
        },
        "id": "e_IH8kVf6OVq",
        "outputId": "9e2fd335-17d1-4057-9de6-b2a858acb1ea"
      },
      "execution_count": null,
      "outputs": [
        {
          "output_type": "stream",
          "name": "stdout",
          "text": [
            "0        103.5\n",
            "1         63.0\n",
            "2        120.0\n",
            "3        129.0\n",
            "4        132.0\n",
            "         ...  \n",
            "18974    100.0\n",
            "18975    130.0\n",
            "18976    120.0\n",
            "18977    100.0\n",
            "18978    100.0\n",
            "Name: value_mm, Length: 18979, dtype: float64\n"
          ]
        }
      ]
    },
    {
      "cell_type": "markdown",
      "source": [
        "###Notes for above cell\n"
      ],
      "metadata": {
        "id": "oxqvdXtj-G5X"
      }
    },
    {
      "cell_type": "markdown",
      "source": [
        "In the code above, the 're.sub(r'[^\\d.]', '', value_str) lines removes all characters from the 'Value' column except digits and dots. This way, it attempts to extract any numeric value, regardless of the special characters used. The result is then converted to a float.\n",
        "\n",
        "1. re.sub(r'[^\\d.]', '', value_str)\n",
        "re.sub() is a function from the re module that performs a substitution operation on a string using regular expressions.\n",
        "r'[^\\d.]' is a regular expression pattern. Here, r denotes a raw string, which helps in interpreting backslashes (\\) as literal characters.\n",
        "[^\\d.] is a character class that matches any character except digits (\\d) and dots (.). The ^ inside the square brackets negates the character class, meaning it matches any character NOT in the specified set.\n",
        "'' is the replacement string, meaning any character that matches the pattern will be replaced with an empty string, effectively removing it.\n",
        "This line removes all non-numeric characters from the value_str. For example, if value_str is '€103.5M', re.sub(r'[^\\d.]', '', value_str) will result in '103.5'."
      ],
      "metadata": {
        "id": "ZF7PsK6S-NQq"
      }
    },
    {
      "cell_type": "markdown",
      "source": [
        "###Second, lets transform the 'Wage' column."
      ],
      "metadata": {
        "id": "Bj05Zn0f_7sx"
      }
    },
    {
      "cell_type": "code",
      "source": [
        "# Function to convert 'Wage' column to numeric format\n",
        "def convert_wage(wage_str):\n",
        "    # Remove non-numeric characters and 'K', then convert to float\n",
        "    numeric_part = re.sub(r'[^\\d.]|K', '', wage_str)\n",
        "    if numeric_part:\n",
        "        return float(numeric_part)  # Keep the wage amount in thousands (no multiplication)\n",
        "    else:\n",
        "        raise ValueError(\"Invalid 'Wage' format: \" + wage_str)\n",
        "\n",
        "# Apply the function to 'Wage' column and store the result in 'wage_amount' column\n",
        "fifa_df['wage_m'] = fifa_df['Wage'].apply(convert_wage)\n",
        "\n",
        "# Drop the original 'Wage' column\n",
        "fifa_df.drop(columns=['Wage'], inplace=True)\n",
        "\n",
        "# Print the updated DataFrame\n",
        "print(fifa_df['wage_m'])"
      ],
      "metadata": {
        "colab": {
          "base_uri": "https://localhost:8080/"
        },
        "id": "c7B5goYCAGKf",
        "outputId": "09583a2d-09cf-4263-eaf4-4db3bd7bea20"
      },
      "execution_count": null,
      "outputs": [
        {
          "output_type": "stream",
          "name": "stdout",
          "text": [
            "0        560.0\n",
            "1        220.0\n",
            "2        125.0\n",
            "3        370.0\n",
            "4        270.0\n",
            "         ...  \n",
            "18974      1.0\n",
            "18975    500.0\n",
            "18976    500.0\n",
            "18977      2.0\n",
            "18978      1.0\n",
            "Name: wage_m, Length: 18979, dtype: float64\n"
          ]
        }
      ]
    },
    {
      "cell_type": "markdown",
      "source": [
        "###Notes for the cell above\n",
        "* The re.sub(r'[^\\d.]|K', '', wage_str) line removes all non-numeric characters and 'K' from the 'Wage' column.\n",
        "* The resulting string is then converted to a floating-point number, representing the actual wage amount."
      ],
      "metadata": {
        "id": "Sq2mZV-dAINz"
      }
    },
    {
      "cell_type": "markdown",
      "source": [
        "###Thirdly, we will transform the 'Release Clause' column"
      ],
      "metadata": {
        "id": "DL8w6zTvDJOG"
      }
    },
    {
      "cell_type": "code",
      "source": [
        "# Function to convert 'Release Clause' column to numeric format\n",
        "def convert_release_clause(value_str):\n",
        "    # Remove non-numeric characters and 'M', then convert to float\n",
        "    numeric_part = re.sub(r'[^\\d.]|M', '', value_str)\n",
        "    if numeric_part:\n",
        "        return float(numeric_part)  # Keep the release clause amount in millions (no multiplication)\n",
        "    else:\n",
        "        raise ValueError(\"Invalid 'Release Clause' format: \" + value_str)\n",
        "\n",
        "# Apply the function to 'Release Clause' column and store the result in 'release_clause_amount' column\n",
        "fifa_df['release_clause_mm'] = fifa_df['Release Clause'].apply(convert_release_clause)\n",
        "\n",
        "# Drop the original 'Release Clause' column\n",
        "fifa_df.drop(columns=['Release Clause'], inplace=True)\n",
        "\n",
        "# Print the updated DataFrame\n",
        "print(fifa_df['release_clause_mm'])"
      ],
      "metadata": {
        "colab": {
          "base_uri": "https://localhost:8080/"
        },
        "id": "rjxRiWaHDXUE",
        "outputId": "9c04b681-163b-47bb-b257-66a2290c0753"
      },
      "execution_count": null,
      "outputs": [
        {
          "output_type": "stream",
          "name": "stdout",
          "text": [
            "0        138.4\n",
            "1         75.9\n",
            "2        159.4\n",
            "3        161.0\n",
            "4        166.5\n",
            "         ...  \n",
            "18974     70.0\n",
            "18975    165.0\n",
            "18976    131.0\n",
            "18977     88.0\n",
            "18978     79.0\n",
            "Name: release_clause_mm, Length: 18979, dtype: float64\n"
          ]
        }
      ]
    },
    {
      "cell_type": "markdown",
      "source": [
        "Now, we have converted the value, wage, and release clause columns into floating numbers."
      ],
      "metadata": {
        "id": "AwbdP-PnFVFQ"
      }
    },
    {
      "cell_type": "markdown",
      "source": [
        "##Question 4: *Can we transform the string values in the 'Hit' column to integers?*"
      ],
      "metadata": {
        "id": "9sMWf15LFe1a"
      }
    },
    {
      "cell_type": "code",
      "source": [
        "#Check the datatype of 'Hits' column\n",
        "fifa_df['Hits'].info"
      ],
      "metadata": {
        "colab": {
          "base_uri": "https://localhost:8080/"
        },
        "id": "CVKK85fqFcJ_",
        "outputId": "8f746baa-c7af-4bcd-b0eb-cef44f0bd0c8"
      },
      "execution_count": null,
      "outputs": [
        {
          "output_type": "execute_result",
          "data": {
            "text/plain": [
              "<bound method Series.info of 0        771\n",
              "1        562\n",
              "2        150\n",
              "3        207\n",
              "4        595\n",
              "        ... \n",
              "18974    NaN\n",
              "18975    NaN\n",
              "18976    NaN\n",
              "18977    NaN\n",
              "18978    NaN\n",
              "Name: Hits, Length: 18979, dtype: object>"
            ]
          },
          "metadata": {},
          "execution_count": 287
        }
      ]
    },
    {
      "cell_type": "code",
      "source": [
        "print(fifa_df['Hits'])\n"
      ],
      "metadata": {
        "colab": {
          "base_uri": "https://localhost:8080/"
        },
        "id": "1Bzr-gHAGH5l",
        "outputId": "740b95f3-7166-46ab-9b24-6fd9d3d8d68d"
      },
      "execution_count": null,
      "outputs": [
        {
          "output_type": "stream",
          "name": "stdout",
          "text": [
            "0        771\n",
            "1        562\n",
            "2        150\n",
            "3        207\n",
            "4        595\n",
            "        ... \n",
            "18974    NaN\n",
            "18975    NaN\n",
            "18976    NaN\n",
            "18977    NaN\n",
            "18978    NaN\n",
            "Name: Hits, Length: 18979, dtype: object\n"
          ]
        }
      ]
    },
    {
      "cell_type": "code",
      "source": [
        "# Function to convert 'K' notation and floats to integers, replacing NaN with 0\n",
        "def convert_hits(hit_value):\n",
        "    if pd.notnull(hit_value):\n",
        "        if isinstance(hit_value, (float, int)):\n",
        "            return int(hit_value)\n",
        "        if isinstance(hit_value, str):\n",
        "            if 'K' in hit_value:\n",
        "                return int(float(hit_value.replace('K', '')) * 1000)\n",
        "            else:\n",
        "                try:\n",
        "                    return int(float(hit_value))\n",
        "                except ValueError:\n",
        "                    return 0\n",
        "    return 0\n",
        "\n",
        "# Convert 'Hits' column to integers while handling 'K' notation, floats, and NaN (replacing NaN with 0)\n",
        "fifa_df['Hits'] = fifa_df['Hits'].apply(convert_hits)\n",
        "\n",
        "# Print the updated DataFrame\n",
        "print(fifa_df['Hits'])"
      ],
      "metadata": {
        "colab": {
          "base_uri": "https://localhost:8080/"
        },
        "id": "7ziQI0jOL3FS",
        "outputId": "369a50bc-31d4-446d-f6cb-6cc3b98f1520"
      },
      "execution_count": null,
      "outputs": [
        {
          "output_type": "stream",
          "name": "stdout",
          "text": [
            "0        771\n",
            "1        562\n",
            "2        150\n",
            "3        207\n",
            "4        595\n",
            "        ... \n",
            "18974      0\n",
            "18975      0\n",
            "18976      0\n",
            "18977      0\n",
            "18978      0\n",
            "Name: Hits, Length: 18979, dtype: int64\n"
          ]
        }
      ]
    },
    {
      "cell_type": "markdown",
      "source": [
        "###Notes to solution for Question 4"
      ],
      "metadata": {
        "id": "cfuBjIIfSq59"
      }
    },
    {
      "cell_type": "markdown",
      "source": [
        "'isinstance()' is a built-in Python function that is used to determine whether an object is an instance of a specific class or data type. It checks if an object belongs to a specified class or data type and returns 'True' if the object is an instance of that class or a sublass, and 'False' otherwise.\n",
        "\n",
        "Here's the syntax of the 'isinstance()' function:\n",
        "\n",
        "isinstance(object, classinfo)\n"
      ],
      "metadata": {
        "id": "UrLuFynLSxYb"
      }
    },
    {
      "cell_type": "code",
      "source": [
        "#For Example:\n",
        "# Check if the variable x is an instance of the int class\n",
        "x = 5\n",
        "print(isinstance(x, int))  # Output: True\n",
        "\n",
        "# Check if the variable y is a float or an integer\n",
        "y = 3.14\n",
        "print(isinstance(y, (float, int)))  # Output: True\n",
        "\n",
        "# Check if a string is an instance of the str class\n",
        "text = \"Hello, World!\"\n",
        "print(isinstance(text, str))  # Output: True\n"
      ],
      "metadata": {
        "id": "LtQcBqQITTML",
        "outputId": "c0ad77e4-a500-4d1d-fdd2-a0f2941128b3",
        "colab": {
          "base_uri": "https://localhost:8080/"
        }
      },
      "execution_count": null,
      "outputs": [
        {
          "output_type": "stream",
          "name": "stdout",
          "text": [
            "True\n",
            "True\n",
            "True\n"
          ]
        }
      ]
    },
    {
      "cell_type": "code",
      "source": [],
      "metadata": {
        "id": "0-avKs3fTV4j"
      },
      "execution_count": null,
      "outputs": []
    }
  ]
}